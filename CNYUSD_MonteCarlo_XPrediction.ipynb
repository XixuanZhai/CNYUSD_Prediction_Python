{
 "cells": [
  {
   "cell_type": "code",
   "execution_count": 3,
   "metadata": {},
   "outputs": [
    {
     "name": "stdout",
     "output_type": "stream",
     "text": [
      "        CPI       PPI        UR        FR       INT        IP        CA\n",
      "0 -0.006100  0.013657  0.093376  0.030480 -0.006308  0.112046  0.376905\n",
      "1  0.004688 -0.007134  0.000050 -0.007618 -0.006348  0.024227  0.470402\n",
      "2  0.018986  0.014022  0.036847  0.065416 -0.006389  0.088081 -0.200780\n",
      "3  0.012159  0.010663 -0.035695  0.060819 -0.006430 -0.127502 -0.934464\n",
      "4 -0.011725  0.010092  0.065569  0.021787 -0.006472  0.138044  0.720535\n"
     ]
    }
   ],
   "source": [
    "import pandas as pd\n",
    "import numpy as np\n",
    "np.random.seed(423)\n",
    "# load Excel document\n",
    "file_path = r\"G:\\My Drive\\Umich\\semester 3\\Fin 612\\currency report\\Data612.xlsx\" #change it into data/Data612.xlsx, if you want to run it from my github\n",
    "data= pd.read_excel(file_path, sheet_name='MC_data')\n",
    "print(data.head()) #check the data"
   ]
  },
  {
   "cell_type": "code",
   "execution_count": 4,
   "metadata": {},
   "outputs": [
    {
     "name": "stdout",
     "output_type": "stream",
     "text": [
      "   CPI_ratio_CHN  UR_ratio_CHN  FR_ratio_CHN  INT_ratio_CHN  CA_ratio_CHN\n",
      "0      -0.006100      0.093376      0.030480      -0.006308      0.376905\n",
      "1       0.004688      0.000050     -0.007618      -0.006348      0.470402\n",
      "2       0.018986      0.036847      0.065416      -0.006389     -0.200780\n",
      "3       0.012159     -0.035695      0.060819      -0.006430     -0.934464\n",
      "4      -0.011725      0.065569      0.021787      -0.006472      0.720535\n"
     ]
    }
   ],
   "source": [
    "# Get column from data I have\n",
    "CPI_data = data['CPI']  \n",
    "UR_data = data['UR']\n",
    "FR_data = data['FR']\n",
    "INT_data = data['INT']\n",
    "CA_data = data['CA']\n",
    "\n",
    "# Create a DataFrame from the column I just create\n",
    "historical_data = pd.DataFrame({\n",
    "    'CPI_ratio_CHN': CPI_data,\n",
    "    'UR_ratio_CHN': UR_data,\n",
    "    'FR_ratio_CHN': FR_data,\n",
    "    'INT_ratio_CHN': INT_data,\n",
    "    'CA_ratio_CHN': CA_data\n",
    "})\n",
    "\n",
    "# check data\n",
    "print(historical_data.head())"
   ]
  },
  {
   "cell_type": "markdown",
   "metadata": {},
   "source": [
    "potential better way to do this: \n",
    "# Select and rename columns directly\n",
    "historical_data = data[['CPI', 'UR', 'FR', 'INT', 'CA']].rename(columns={\n",
    "    'CPI': 'CPI_ratio_CHN',\n",
    "    'UR': 'UR_ratio_CHN',\n",
    "    'FR': 'FR_ratio_CHN',\n",
    "    'INT': 'INT_ratio_CHN',\n",
    "    'CA': 'CA_ratio_CHN'\n",
    "})"
   ]
  },
  {
   "cell_type": "markdown",
   "metadata": {},
   "source": [
    "Monte Carlo Simulation for 1 year"
   ]
  },
  {
   "cell_type": "code",
   "execution_count": 5,
   "metadata": {},
   "outputs": [
    {
     "name": "stdout",
     "output_type": "stream",
     "text": [
      "whether it is positive_definite: True\n",
      "Value of epsilon: 0\n"
     ]
    }
   ],
   "source": [
    "#1 calculate mean, standard deviation, and correlation matrix\n",
    "means = historical_data.mean()\n",
    "std_devs = historical_data.std()\n",
    "#consider about the volatility of the US&China market and the political effect\n",
    "volatility_factor = 2  # adjust this factor for volatility\n",
    "adjusted_std_devs = std_devs * volatility_factor\n",
    "\n",
    "correlation_matrix = historical_data.corr()\n",
    "# identify whether the correlation matrix is positive_difinite\n",
    "def is_positive_definite(matrix):\n",
    "    eigenvalues = np.linalg.eigvals(matrix) # 计算矩阵的特征值\n",
    "    return np.all(eigenvalues > 0) # 检查所有特征值是否大于零\n",
    "# check whether the matrix is positive difinite and then set the epsilon 检查矩阵是否正定并设置 epsilon\n",
    "if is_positive_definite(correlation_matrix):\n",
    "    epsilon = 0\n",
    "else:\n",
    "    epsilon = float(input(\"The matrix is not positive definite. Please enter a value for epsilon: \"))\n",
    "\n",
    "# 打印结果\n",
    "print(\"whether it is positive_definite:\", is_positive_definite(correlation_matrix))\n",
    "print(\"Value of epsilon:\", epsilon)\n",
    "\n",
    "# Adjust correlation matrix with epsilon\n",
    "correlation_matrix_adjusted= correlation_matrix + np.eye(correlation_matrix.shape[0])*epsilon"
   ]
  },
  {
   "cell_type": "code",
   "execution_count": null,
   "metadata": {},
   "outputs": [
    {
     "name": "stderr",
     "output_type": "stream",
     "text": [
      "C:\\Users\\z1052\\AppData\\Local\\Temp\\ipykernel_6524\\3356263738.py:28: FutureWarning: Series.__getitem__ treating keys as positions is deprecated. In a future version, integer keys will always be treated as labels (consistent with DataFrame behavior). To access a value by position, use `ser.iloc[pos]`\n",
      "  means[var_idx] * dt +  # 变量确定的平均变化,dt=1的时候是一个离散模型\n",
      "C:\\Users\\z1052\\AppData\\Local\\Temp\\ipykernel_6524\\3356263738.py:29: FutureWarning: Series.__getitem__ treating keys as positions is deprecated. In a future version, integer keys will always be treated as labels (consistent with DataFrame behavior). To access a value by position, use `ser.iloc[pos]`\n",
      "  adjusted_std_devs[var_idx] * np.sqrt(dt) * correlated_randoms[t, var_idx, sim] #变量的波动部分，基于标准差和随机数生成的随机波动部分\n"
     ]
    },
    {
     "name": "stdout",
     "output_type": "stream",
     "text": [
      "   CPI_ratio_CHN  UR_ratio_CHN  FR_ratio_CHN  INT_ratio_CHN  CA_ratio_CHN\n",
      "0      -0.005207     -0.034719      0.038557       0.000000     -0.148747\n",
      "1       0.009534      0.152783      0.041737      -0.788728     -0.239424\n",
      "2       0.009333      0.208515      0.009086      -0.991682     -7.939737\n",
      "3       0.045672     -0.211897     -0.067647      -0.568615      6.189737\n",
      "4       0.039737     -0.214249     -0.068920      -1.215386     26.378540\n",
      "5       0.065572      0.224914     -0.018935       1.037741     -1.214075\n",
      "6       0.092725      0.007560     -0.103402       2.279728    -11.180511\n"
     ]
    }
   ],
   "source": [
    "# Cholesky decomposition to generate paths for correlated variables\n",
    "cholesky_matrix = np.linalg.cholesky(correlation_matrix_adjusted) #将调整后的矩阵，分解成一个下三角矩阵*其转置，来保留自变量之间存在的相关关系，在后续随机数生成过程中，可以将这种相关关系赋予随机数\n",
    "\n",
    "#3 define Manto Carlo function\n",
    "def monte_carlo_simulation(timesteps, num_simulations, means, adjusted_std_devs, cholesky_matrix,dt):\n",
    "    num_vars = len(means) \n",
    "    # generate normal random numbers\n",
    "    random_normals = np.random.normal(size=(timesteps, num_vars, num_simulations))\n",
    "    \n",
    "    # Assign the correlation results obtained from the Cholesky decomposition to the generated random numbers. 将刚才cholesky分解得到的相关结果赋予生成的随机数\n",
    "    correlated_randoms = np.einsum('ij,tjk->tik', cholesky_matrix, random_normals)\n",
    "    '''np.einsum(subscripts, *operands) subscripts描述输入张量的维度如何相互作用，以及输出的维度如何排列。*operands 输入的矩阵或多维数组。\n",
    "       'ij'：表示 cholesky_matrix 的两个维度（行和列）\n",
    "       'tjk'：表示 random_normals 的三个维度（时间步 t、变量 j 和模拟次数 k）\n",
    "       'tik'：表示输出矩阵的三个维度（时间步 t、变量 i 和模拟次数 k）\n",
    "       运算规则是对于维度j求和，cholesky_matrix 的列（j）与 random_normals 的第二维（j）相乘并求和\n",
    "    '''\n",
    "    # Initialize an array to store the simulation results. 初始化用于存储模拟结果的数组\n",
    "    simulations = np.zeros((timesteps, num_vars, num_simulations))\n",
    "    \n",
    "    # simulate each variables 对每个变量进行模拟\n",
    "    for var_idx in range(num_vars): # var_idx当前正在处理的自变量的索引 （从0到num_vars-1），num_vars自变量数量，在我们的示例里应该是5个，这个循环是对每个自变量进行独立的模拟\n",
    "        for sim in range(num_simulations): #num_simulations次的随机模拟，每一次随机模拟都会有一条模拟路径\n",
    "            simulations[0, var_idx, sim] = historical_data.iloc[-1, var_idx]  # 从最后一个已知值开始，也就是我们模拟的初始值\n",
    "            for t in range(1, timesteps): #循环从第一个时间步开始，生成从初始值到未来的多个时间部预测\n",
    "                simulations[t, var_idx, sim] = (\n",
    "                    simulations[t-1, var_idx, sim] +\n",
    "                    means[var_idx] * dt +  # 变量确定的平均变化,dt=1的时候是一个离散模型\n",
    "                    adjusted_std_devs[var_idx] * np.sqrt(dt) * correlated_randoms[t, var_idx, sim] #变量的波动部分，基于标准差和随机数生成的随机波动部分\n",
    "                )\n",
    "    \n",
    "    return simulations\n",
    "\n",
    "#4(1) Run the Monte Carlo simulation to predict the next year (4 quarters)\n",
    "num_simulations = 20000  # 模拟次数\n",
    "timesteps_1_year = 7    # 2024Q1为起点，七步之后到2025Q4，我们取最后四步的每步均值，作为当时季度的预测值，再通过这四步的预测值，求年均值\n",
    "dt=1\n",
    "simulations_1_year_adjusted = monte_carlo_simulation(timesteps_1_year, num_simulations, means, adjusted_std_devs, cholesky_matrix,dt)\n",
    "\n",
    "#5 Convert the results of the first simulation path into a DataFrame to verify whether the output dimensions are correct. 将第一个模拟路径结果转为DataFrame展示确定输出结果维数是否正确\n",
    "simulated_1_year_adjusted_df = pd.DataFrame(simulations_1_year_adjusted[:, :, 0], columns=historical_data.columns) #所有5个变量的第一条模拟路径\n",
    "print(simulated_1_year_adjusted_df)  # 确定一下矩阵行列数是否正确"
   ]
  },
  {
   "cell_type": "code",
   "execution_count": 10,
   "metadata": {},
   "outputs": [
    {
     "name": "stdout",
     "output_type": "stream",
     "text": [
      "   CPI_ratio_CHN  UR_ratio_CHN  FR_ratio_CHN  INT_ratio_CHN  CA_ratio_CHN\n",
      "0      -0.005207     -0.034719      0.038557       0.000000     -0.148747\n",
      "1      -0.006379     -0.021087      0.049587      -0.075786     -0.131511\n",
      "2      -0.007323     -0.003090      0.059473      -0.155002     -0.198438\n",
      "3      -0.008437      0.011295      0.070168      -0.231795     -0.129834\n",
      "4      -0.009347      0.031313      0.080510      -0.311740     -0.171549\n",
      "5      -0.010561      0.053767      0.091133      -0.396285     -0.036755\n",
      "6      -0.011591      0.071091      0.102522      -0.462964     -0.192339\n"
     ]
    }
   ],
   "source": [
    "#6：Calculate the mean of each time step and variable across all 20,000 simulation paths. 计算每个时间步和变量在所有2万条模拟路径上的均值\n",
    "# Take the mean along the simulation path axis (axis=2)\n",
    "mean_simulations1 = np.mean(simulations_1_year_adjusted, axis=2) #axis=2取第 2 维上所有模拟路径的均值\n",
    "\n",
    "# Change the results into DataFrame\n",
    "mean_simulations1_df = pd.DataFrame(mean_simulations1, columns=historical_data.columns)\n",
    "\n",
    "# check the outcome\n",
    "print(mean_simulations1_df)"
   ]
  },
  {
   "cell_type": "code",
   "execution_count": 14,
   "metadata": {},
   "outputs": [
    {
     "name": "stdout",
     "output_type": "stream",
     "text": [
      "predicted future one year Y ratio (7 timesteps) : 0    1.000089\n",
      "1    1.000122\n",
      "2    1.000151\n",
      "3    1.000182\n",
      "4    1.000210\n",
      "5    1.000239\n",
      "6    1.000271\n",
      "dtype: float64\n"
     ]
    }
   ],
   "source": [
    "##7 Substitute the calculated X prediction values into the linear regression equation to solve for Y ratio\n",
    "# Use the beta we have got from others result\n",
    "beta0 = -0.0020  # 截距项\n",
    "beta1 = -0.5928  # CPI 系数\n",
    "beta2 = -0.0323  # UR 系数\n",
    "beta3 = 0.1698  # FR 系数\n",
    "beta4 = -0.0148  # INT 系数\n",
    "beta5 = -0.0013  # CA 系数\n",
    "\n",
    "# Introduce a coefficient scaling factor\n",
    "scale_factor = 0.01\n",
    "\n",
    "# Set X matrix\n",
    "X_mean1=mean_simulations1_df\n",
    "\n",
    "#  Calculate ln(Y_ratio)\n",
    "ln_Y_ratio = (\n",
    "    scale_factor*beta0 +\n",
    "    scale_factor*beta1 * X_mean1['CPI_ratio_CHN'] +\n",
    "    scale_factor*beta2 * X_mean1['UR_ratio_CHN'] +\n",
    "    scale_factor*beta3 * X_mean1['FR_ratio_CHN'] +\n",
    "    scale_factor*beta4 * X_mean1['INT_ratio_CHN'] +\n",
    "    scale_factor*beta5 * X_mean1['CA_ratio_CHN']\n",
    ")\n",
    "\n",
    "# convert ln(Y) into Y\n",
    "Y1_ratio_pred = np.exp(ln_Y_ratio)\n",
    "\n",
    "# print final Y prediction\n",
    "print(\"predicted future one year Y ratio (7 timesteps) :\", Y1_ratio_pred)\n"
   ]
  },
  {
   "cell_type": "code",
   "execution_count": 15,
   "metadata": {},
   "outputs": [
    {
     "name": "stdout",
     "output_type": "stream",
     "text": [
      "predicted future one year (7 timesteps) : [7.20244448 7.20332145 7.20440863 7.20571639 7.20723238 7.2089559\n",
      " 7.21090871]\n"
     ]
    }
   ],
   "source": [
    "##8 Subsititute future 7 timesteps Y prediction to calculate exact Y(因为一开始的数据是计算完的ln(Yt/Yt-1))\n",
    "initial_rate = 7.2018  # 这是 CNYUSD 的初始汇率值\n",
    "\n",
    "# Use the predicted Y ratio to calculate future Y\n",
    "predicted_exchange_rates1 = [initial_rate]  # 初始化列表，起点为初始汇率\n",
    "for i in range(len(Y1_ratio_pred)):\n",
    "    next_rate = predicted_exchange_rates1[-1] * Y1_ratio_pred.iloc[i]  # 将上一个汇率乘以 Y_pred 的比值\n",
    "    predicted_exchange_rates1.append(next_rate)\n",
    "\n",
    "# Show the result\n",
    "predicted_exchange_rates1 = np.array(predicted_exchange_rates1[1:])  # 从第二个开始，去掉初始值\n",
    "print(\"predicted future one year (7 timesteps) :\", predicted_exchange_rates1)"
   ]
  },
  {
   "cell_type": "code",
   "execution_count": 16,
   "metadata": {},
   "outputs": [
    {
     "name": "stdout",
     "output_type": "stream",
     "text": [
      "last four exchange rate values: [7.20571639 7.20723238 7.2089559  7.21090871]\n",
      "Average exchange rate for year 2025 : 7.208203344483442\n"
     ]
    }
   ],
   "source": [
    "##9 Extract the last four exchange rate values\n",
    "last_four_rates1 = predicted_exchange_rates1[-4:]\n",
    "\n",
    "# Calculate the mean of last 4 values\n",
    "average_rate_1 = np.mean(last_four_rates1)\n",
    "\n",
    "# Step 3: 打印最后四个汇率值和它们的均值\n",
    "print(\"last four exchange rate values:\", last_four_rates1)\n",
    "print(\"Average exchange rate for year 2025 :\", average_rate_1)"
   ]
  },
  {
   "cell_type": "markdown",
   "metadata": {},
   "source": [
    "Monte Carlo Simulation for 3 years"
   ]
  },
  {
   "cell_type": "code",
   "execution_count": 18,
   "metadata": {},
   "outputs": [
    {
     "name": "stderr",
     "output_type": "stream",
     "text": [
      "C:\\Users\\z1052\\AppData\\Local\\Temp\\ipykernel_6524\\3356263738.py:28: FutureWarning: Series.__getitem__ treating keys as positions is deprecated. In a future version, integer keys will always be treated as labels (consistent with DataFrame behavior). To access a value by position, use `ser.iloc[pos]`\n",
      "  means[var_idx] * dt +  # 变量确定的平均变化,dt=1的时候是一个离散模型\n",
      "C:\\Users\\z1052\\AppData\\Local\\Temp\\ipykernel_6524\\3356263738.py:29: FutureWarning: Series.__getitem__ treating keys as positions is deprecated. In a future version, integer keys will always be treated as labels (consistent with DataFrame behavior). To access a value by position, use `ser.iloc[pos]`\n",
      "  adjusted_std_devs[var_idx] * np.sqrt(dt) * correlated_randoms[t, var_idx, sim] #变量的波动部分，基于标准差和随机数生成的随机波动部分\n"
     ]
    },
    {
     "data": {
      "text/html": [
       "<div>\n",
       "<style scoped>\n",
       "    .dataframe tbody tr th:only-of-type {\n",
       "        vertical-align: middle;\n",
       "    }\n",
       "\n",
       "    .dataframe tbody tr th {\n",
       "        vertical-align: top;\n",
       "    }\n",
       "\n",
       "    .dataframe thead th {\n",
       "        text-align: right;\n",
       "    }\n",
       "</style>\n",
       "<table border=\"1\" class=\"dataframe\">\n",
       "  <thead>\n",
       "    <tr style=\"text-align: right;\">\n",
       "      <th></th>\n",
       "      <th>CPI_ratio_CHN</th>\n",
       "      <th>UR_ratio_CHN</th>\n",
       "      <th>FR_ratio_CHN</th>\n",
       "      <th>INT_ratio_CHN</th>\n",
       "      <th>CA_ratio_CHN</th>\n",
       "    </tr>\n",
       "  </thead>\n",
       "  <tbody>\n",
       "    <tr>\n",
       "      <th>0</th>\n",
       "      <td>0.008197</td>\n",
       "      <td>0.150044</td>\n",
       "      <td>0.010495</td>\n",
       "      <td>0.306587</td>\n",
       "      <td>-6.123065</td>\n",
       "    </tr>\n",
       "    <tr>\n",
       "      <th>1</th>\n",
       "      <td>0.006648</td>\n",
       "      <td>-0.036560</td>\n",
       "      <td>-0.014911</td>\n",
       "      <td>0.533328</td>\n",
       "      <td>-3.517863</td>\n",
       "    </tr>\n",
       "    <tr>\n",
       "      <th>2</th>\n",
       "      <td>-0.012032</td>\n",
       "      <td>-0.164878</td>\n",
       "      <td>0.046005</td>\n",
       "      <td>-0.060398</td>\n",
       "      <td>5.460408</td>\n",
       "    </tr>\n",
       "    <tr>\n",
       "      <th>3</th>\n",
       "      <td>-0.016376</td>\n",
       "      <td>-0.297041</td>\n",
       "      <td>0.123190</td>\n",
       "      <td>-0.650046</td>\n",
       "      <td>17.683651</td>\n",
       "    </tr>\n",
       "  </tbody>\n",
       "</table>\n",
       "</div>"
      ],
      "text/plain": [
       "   CPI_ratio_CHN  UR_ratio_CHN  FR_ratio_CHN  INT_ratio_CHN  CA_ratio_CHN\n",
       "0       0.008197      0.150044      0.010495       0.306587     -6.123065\n",
       "1       0.006648     -0.036560     -0.014911       0.533328     -3.517863\n",
       "2      -0.012032     -0.164878      0.046005      -0.060398      5.460408\n",
       "3      -0.016376     -0.297041      0.123190      -0.650046     17.683651"
      ]
     },
     "execution_count": 18,
     "metadata": {},
     "output_type": "execute_result"
    }
   ],
   "source": [
    "#4(2) Run the Monte Carlo simulation to predict the next 3 years (12 quarters)\n",
    "num_simulations = 20000  # 模拟次数\n",
    "timesteps_3_years = 15    # 3年=12个季度，加上2024年剩余的3个季度\n",
    "dt=1\n",
    "simulations_3_years_adjusted = monte_carlo_simulation(timesteps_3_years, num_simulations, means, std_devs, cholesky_matrix,dt)\n",
    "\n",
    "# Check the value\n",
    "simulated_3_years_adjusted_df = pd.DataFrame(simulations_3_years_adjusted[1:5, :, 0], columns=historical_data.columns)\n",
    "simulated_3_years_adjusted_df.head()  # 展示第一个模拟路径的前几行"
   ]
  },
  {
   "cell_type": "code",
   "execution_count": 19,
   "metadata": {},
   "outputs": [
    {
     "name": "stdout",
     "output_type": "stream",
     "text": [
      "    CPI_ratio_CHN  UR_ratio_CHN  FR_ratio_CHN  INT_ratio_CHN  CA_ratio_CHN\n",
      "0       -0.005207     -0.034719      0.038557       0.000000     -0.148747\n",
      "1       -0.006439     -0.017598      0.048923      -0.074207     -0.074535\n",
      "2       -0.007609     -0.000994      0.059537      -0.146514     -0.099807\n",
      "3       -0.008784      0.017031      0.069842      -0.223619     -0.099245\n",
      "4       -0.010121      0.036668      0.080557      -0.302877     -0.004246\n",
      "5       -0.011193      0.054391      0.090535      -0.380562      0.076670\n",
      "6       -0.012470      0.073719      0.101049      -0.452583     -0.010516\n",
      "7       -0.013530      0.090088      0.111531      -0.525099      0.014680\n",
      "8       -0.014643      0.108233      0.122331      -0.604239      0.058424\n",
      "9       -0.015760      0.126167      0.133006      -0.682694      0.085083\n",
      "10      -0.017078      0.144213      0.143154      -0.759957      0.127362\n",
      "11      -0.018410      0.160909      0.153341      -0.830740      0.069221\n",
      "12      -0.019738      0.177843      0.163812      -0.908948      0.192617\n",
      "13      -0.020957      0.194076      0.174244      -0.988355      0.300169\n",
      "14      -0.022139      0.211876      0.185056      -1.061626      0.319126\n"
     ]
    }
   ],
   "source": [
    "#6：Calculate the mean of each time step and variable across all 20,000 simulation paths. 计算每个时间步和变量在所有2万条模拟路径上的均值\n",
    "# 沿着模拟路径的轴（axis=2）取均值\n",
    "mean_simulations3 = np.mean(simulations_3_years_adjusted, axis=2)\n",
    "\n",
    "# Change the results into DataFrame\n",
    "mean_simulations3_df = pd.DataFrame(mean_simulations3, columns=historical_data.columns)\n",
    "\n",
    "# Check the outcomes\n",
    "print(mean_simulations3_df)"
   ]
  },
  {
   "cell_type": "code",
   "execution_count": 20,
   "metadata": {},
   "outputs": [
    {
     "name": "stdout",
     "output_type": "stream",
     "text": [
      "predicted future one year Y ratio(15 timesteps): 0     1.000089\n",
      "1     1.000119\n",
      "2     1.000150\n",
      "3     1.000180\n",
      "4     1.000210\n",
      "5     1.000238\n",
      "6     1.000269\n",
      "7     1.000298\n",
      "8     1.000328\n",
      "9     1.000359\n",
      "10    1.000389\n",
      "11    1.000420\n",
      "12    1.000450\n",
      "13    1.000480\n",
      "14    1.000510\n",
      "dtype: float64\n"
     ]
    }
   ],
   "source": [
    "##7 Substitute the calculated X prediction values into the linear regression equation to solve for Y ratio\n",
    "# Use the beta we have got from others result\n",
    "beta0 = -0.0020  # 截距项\n",
    "beta1 = -0.5928  # CPI 系数\n",
    "beta2 = -0.0323  # UR 系数\n",
    "beta3 = 0.1698  # FR 系数\n",
    "beta4 = -0.0148  # INT 系数\n",
    "beta5 = -0.0013  # CA 系数\n",
    "\n",
    "#Introduce a coefficient scaling factor\n",
    "scale_factor = 0.01\n",
    "\n",
    "# Extract the mean of X3 prediction\n",
    "X3_mean = mean_simulations3_df  # 自变量的均值DataFrame\n",
    "\n",
    "# Calculate ln(Y3_ratio)\n",
    "ln_Y3_ratio = (\n",
    "    scale_factor*beta0 +\n",
    "    scale_factor*beta1 * X3_mean['CPI_ratio_CHN'] +\n",
    "    scale_factor*beta2 * X3_mean['UR_ratio_CHN'] +\n",
    "    scale_factor* beta3 * X3_mean['FR_ratio_CHN'] +\n",
    "    scale_factor* beta4 * X3_mean['INT_ratio_CHN'] +\n",
    "    scale_factor* beta5 * X3_mean['CA_ratio_CHN']\n",
    ")\n",
    "\n",
    "# Convert ln(Y3_ratio) into Y_ratio\n",
    "Y3_ratio_pred = np.exp(ln_Y3_ratio)\n",
    "\n",
    "# print\n",
    "print(\"predicted future one year Y ratio(15 timesteps):\", Y3_ratio_pred)"
   ]
  },
  {
   "cell_type": "code",
   "execution_count": 21,
   "metadata": {},
   "outputs": [
    {
     "name": "stdout",
     "output_type": "stream",
     "text": [
      "predicted future three year (15 timesteps): [7.20244448 7.20330072 7.20437773 7.20567139 7.20718344 7.20889779\n",
      " 7.21083588 7.21298511 7.215353   7.21793981 7.22074488 7.22377521\n",
      " 7.22702474 7.23049302 7.23418152]\n"
     ]
    }
   ],
   "source": [
    "##8 Subsititute future 15 timesteps Y3 prediction to calculate exact Y(因为一开始的数据是计算完的ln(Yt/Yt-1))\n",
    "initial_rate = 7.2018  # 这是 CNYUSD 的初始汇率值\n",
    "\n",
    "# Use the predicted Y ratio to calculate future Y\n",
    "predicted_exchange_rates3 = [initial_rate]  # 初始化列表，起点为初始汇率\n",
    "for i in range(len(Y3_ratio_pred)):\n",
    "    next_rate = predicted_exchange_rates3[-1] * Y3_ratio_pred.iloc[i]  # 将上一个汇率乘以 Y3_pred 的比值\n",
    "    predicted_exchange_rates3.append(next_rate)\n",
    "\n",
    "# print\n",
    "predicted_exchange_rates3 = np.array(predicted_exchange_rates3[1:])  # 从第二个开始，去掉初始值\n",
    "print(\"predicted future three year (15 timesteps):\", predicted_exchange_rates3)"
   ]
  },
  {
   "cell_type": "code",
   "execution_count": 22,
   "metadata": {},
   "outputs": [
    {
     "name": "stdout",
     "output_type": "stream",
     "text": [
      "last four exchange rate values: [7.22377521 7.22702474 7.23049302 7.23418152]\n",
      "Average exchange rate for year 2027 : 7.228868625811039\n"
     ]
    }
   ],
   "source": [
    "##9 Extract the last four exchange rate values\n",
    "last_four_rates3 = predicted_exchange_rates3[-4:]\n",
    "\n",
    "# Calculate the mean of last 4 values\n",
    "average_rate_3 = np.mean(last_four_rates3)\n",
    "\n",
    "print(\"last four exchange rate values:\", last_four_rates3)\n",
    "print(\"Average exchange rate for year 2027 :\", average_rate_3)"
   ]
  },
  {
   "cell_type": "markdown",
   "metadata": {},
   "source": [
    "Monte Carlo Simulation for 5 years"
   ]
  },
  {
   "cell_type": "code",
   "execution_count": 23,
   "metadata": {},
   "outputs": [
    {
     "name": "stderr",
     "output_type": "stream",
     "text": [
      "C:\\Users\\z1052\\AppData\\Local\\Temp\\ipykernel_6524\\3356263738.py:28: FutureWarning: Series.__getitem__ treating keys as positions is deprecated. In a future version, integer keys will always be treated as labels (consistent with DataFrame behavior). To access a value by position, use `ser.iloc[pos]`\n",
      "  means[var_idx] * dt +  # 变量确定的平均变化,dt=1的时候是一个离散模型\n",
      "C:\\Users\\z1052\\AppData\\Local\\Temp\\ipykernel_6524\\3356263738.py:29: FutureWarning: Series.__getitem__ treating keys as positions is deprecated. In a future version, integer keys will always be treated as labels (consistent with DataFrame behavior). To access a value by position, use `ser.iloc[pos]`\n",
      "  adjusted_std_devs[var_idx] * np.sqrt(dt) * correlated_randoms[t, var_idx, sim] #变量的波动部分，基于标准差和随机数生成的随机波动部分\n"
     ]
    },
    {
     "data": {
      "text/html": [
       "<div>\n",
       "<style scoped>\n",
       "    .dataframe tbody tr th:only-of-type {\n",
       "        vertical-align: middle;\n",
       "    }\n",
       "\n",
       "    .dataframe tbody tr th {\n",
       "        vertical-align: top;\n",
       "    }\n",
       "\n",
       "    .dataframe thead th {\n",
       "        text-align: right;\n",
       "    }\n",
       "</style>\n",
       "<table border=\"1\" class=\"dataframe\">\n",
       "  <thead>\n",
       "    <tr style=\"text-align: right;\">\n",
       "      <th></th>\n",
       "      <th>CPI_ratio_CHN</th>\n",
       "      <th>UR_ratio_CHN</th>\n",
       "      <th>FR_ratio_CHN</th>\n",
       "      <th>INT_ratio_CHN</th>\n",
       "      <th>CA_ratio_CHN</th>\n",
       "    </tr>\n",
       "  </thead>\n",
       "  <tbody>\n",
       "    <tr>\n",
       "      <th>0</th>\n",
       "      <td>-0.016758</td>\n",
       "      <td>-0.250822</td>\n",
       "      <td>0.029233</td>\n",
       "      <td>0.313853</td>\n",
       "      <td>-2.876570</td>\n",
       "    </tr>\n",
       "    <tr>\n",
       "      <th>1</th>\n",
       "      <td>-0.005130</td>\n",
       "      <td>-0.255768</td>\n",
       "      <td>0.059545</td>\n",
       "      <td>0.556575</td>\n",
       "      <td>-9.976972</td>\n",
       "    </tr>\n",
       "    <tr>\n",
       "      <th>2</th>\n",
       "      <td>-0.007776</td>\n",
       "      <td>-0.178914</td>\n",
       "      <td>0.053868</td>\n",
       "      <td>0.345738</td>\n",
       "      <td>-11.828293</td>\n",
       "    </tr>\n",
       "    <tr>\n",
       "      <th>3</th>\n",
       "      <td>0.009099</td>\n",
       "      <td>-0.345816</td>\n",
       "      <td>0.051791</td>\n",
       "      <td>0.771012</td>\n",
       "      <td>-8.878881</td>\n",
       "    </tr>\n",
       "  </tbody>\n",
       "</table>\n",
       "</div>"
      ],
      "text/plain": [
       "   CPI_ratio_CHN  UR_ratio_CHN  FR_ratio_CHN  INT_ratio_CHN  CA_ratio_CHN\n",
       "0      -0.016758     -0.250822      0.029233       0.313853     -2.876570\n",
       "1      -0.005130     -0.255768      0.059545       0.556575     -9.976972\n",
       "2      -0.007776     -0.178914      0.053868       0.345738    -11.828293\n",
       "3       0.009099     -0.345816      0.051791       0.771012     -8.878881"
      ]
     },
     "execution_count": 23,
     "metadata": {},
     "output_type": "execute_result"
    }
   ],
   "source": [
    "#4(3) Run the Monte Carlo simulation to predict the next 5 years (20 quarters)\n",
    "num_simulations = 20000  # 模拟次数\n",
    "timesteps_5_years = 23    # 5年=20个季度，加上2024本身的三个季度\n",
    "dt=1\n",
    "simulations_5_years_adjusted = monte_carlo_simulation(timesteps_5_years, num_simulations, means, std_devs, cholesky_matrix,dt)\n",
    "\n",
    "# Check\n",
    "simulated_5_years_adjusted_df = pd.DataFrame(simulations_5_years_adjusted[1:5, :, 0], columns=historical_data.columns)\n",
    "simulated_5_years_adjusted_df.head()  # 展示第一个模拟路径的前几行"
   ]
  },
  {
   "cell_type": "code",
   "execution_count": 24,
   "metadata": {},
   "outputs": [
    {
     "name": "stdout",
     "output_type": "stream",
     "text": [
      "    CPI_ratio_CHN  UR_ratio_CHN  FR_ratio_CHN  INT_ratio_CHN  CA_ratio_CHN\n",
      "0       -0.005207     -0.034719      0.038557       0.000000     -0.148747\n",
      "1       -0.006442     -0.013760      0.049028      -0.079793     -0.128294\n",
      "2       -0.007709      0.003785      0.059509      -0.155224     -0.098340\n",
      "3       -0.008853      0.021727      0.070161      -0.228867     -0.099264\n",
      "4       -0.009902      0.040276      0.080632      -0.305118     -0.101077\n",
      "5       -0.011223      0.057568      0.091047      -0.385522     -0.079838\n",
      "6       -0.012493      0.076593      0.101394      -0.453264     -0.141095\n",
      "7       -0.013749      0.092165      0.111963      -0.529745     -0.069936\n",
      "8       -0.015044      0.109769      0.122435      -0.606475     -0.117250\n",
      "9       -0.016249      0.125520      0.132765      -0.681045     -0.082406\n",
      "10      -0.017530      0.144997      0.143058      -0.755803      0.002396\n",
      "11      -0.018698      0.162579      0.153128      -0.827445      0.022870\n",
      "12      -0.019980      0.180781      0.163368      -0.903689      0.050933\n",
      "13      -0.021190      0.199997      0.174486      -0.985537      0.025099\n",
      "14      -0.022453      0.217152      0.184861      -1.063373      0.036409\n",
      "15      -0.023812      0.237985      0.195474      -1.143514      0.085038\n",
      "16      -0.024963      0.255649      0.206149      -1.227163      0.175294\n",
      "17      -0.026100      0.274610      0.216900      -1.305847      0.189252\n",
      "18      -0.027334      0.291370      0.227327      -1.384235      0.248359\n",
      "19      -0.028461      0.310318      0.237863      -1.459913      0.240679\n",
      "20      -0.029844      0.328537      0.248111      -1.535298      0.235205\n",
      "21      -0.030971      0.345221      0.258664      -1.611824      0.236069\n",
      "22      -0.032238      0.363829      0.269068      -1.690761      0.321561\n"
     ]
    }
   ],
   "source": [
    "#6：Calculate the mean of each time step and variable across all 20,000 simulation paths. 计算每个时间步和变量在所有2万条模拟路径上的均值\n",
    "# 沿着模拟路径的轴（axis=2）取均值\n",
    "mean_simulations5 = np.mean(simulations_5_years_adjusted, axis=2)\n",
    "\n",
    "# Turn the results into DataFrame\n",
    "mean_simulations5_df = pd.DataFrame(mean_simulations5, columns=historical_data.columns)\n",
    "\n",
    "# check\n",
    "print(mean_simulations5_df)"
   ]
  },
  {
   "cell_type": "code",
   "execution_count": 28,
   "metadata": {},
   "outputs": [
    {
     "name": "stdout",
     "output_type": "stream",
     "text": [
      "predicted future five year Y ratio(23 timesteps): 0     1.000089\n",
      "1     1.000119\n",
      "2     1.000150\n",
      "3     1.000180\n",
      "4     1.000209\n",
      "5     1.000241\n",
      "6     1.000270\n",
      "7     1.000301\n",
      "8     1.000333\n",
      "9     1.000363\n",
      "10    1.000392\n",
      "11    1.000421\n",
      "12    1.000451\n",
      "13    1.000483\n",
      "14    1.000514\n",
      "15    1.000544\n",
      "16    1.000575\n",
      "17    1.000605\n",
      "18    1.000636\n",
      "19    1.000666\n",
      "20    1.000696\n",
      "21    1.000727\n",
      "22    1.000757\n",
      "dtype: float64\n"
     ]
    }
   ],
   "source": [
    "##7 Substitute the calculated X prediction values into the linear regression equation to solve for Y ratio\n",
    "# Use the beta we have got from others result\n",
    "beta0 = -0.0020  # 截距项\n",
    "beta1 = -0.5928  # CPI 系数\n",
    "beta2 = -0.0323  # UR 系数\n",
    "beta3 = 0.1698  # FR 系数\n",
    "beta4 = -0.0148  # INT 系数\n",
    "beta5 = -0.0013  # CA 系数\n",
    "\n",
    "#Introduce a coefficient scaling factor\n",
    "scale_factor = 0.01\n",
    "\n",
    "# Extract the mean of X3 prediction\n",
    "X5_mean = mean_simulations5_df  # 自变量的均值DataFrame\n",
    "\n",
    "# Claculate ln(Y_ratio)\n",
    "ln_Y5_ratio = (\n",
    "    scale_factor*beta0 +\n",
    "    scale_factor* beta1 * X5_mean['CPI_ratio_CHN'] +\n",
    "    scale_factor* beta2 * X5_mean['UR_ratio_CHN'] +\n",
    "    scale_factor* beta3 * X5_mean['FR_ratio_CHN'] +\n",
    "    scale_factor*beta4 * X5_mean['INT_ratio_CHN'] +\n",
    "    scale_factor*beta5 * X5_mean['CA_ratio_CHN']\n",
    ")\n",
    "\n",
    "# Convert ln(Y_ratio) into Y\n",
    "Y5_ratio_pred = np.exp(ln_Y5_ratio)\n",
    "\n",
    "# Check\n",
    "print(\"predicted future five year Y ratio(23 timesteps):\", Y5_ratio_pred)\n"
   ]
  },
  {
   "cell_type": "code",
   "execution_count": 30,
   "metadata": {},
   "outputs": [
    {
     "name": "stdout",
     "output_type": "stream",
     "text": [
      "predicted future five year Y (23 timesteps): [7.20244448 7.20330421 7.20438316 7.20567833 7.207185   7.20891948\n",
      " 7.21086907 7.21304102 7.21544267 7.21806293 7.2208917  7.22392876\n",
      " 7.2271841  7.23067443 7.23439025 7.23832929 7.242491   7.24687495\n",
      " 7.25148224 7.25630835 7.26136234 7.2666417  7.27214114]\n"
     ]
    }
   ],
   "source": [
    "##8 Subsititute future 15 timesteps Y3 prediction to calculate exact Y(因为一开始的数据是计算完的ln(Yt/Yt-1))\n",
    "initial_rate = 7.2018  # 这是 CNYUSD 的初始汇率值\n",
    "\n",
    "# # Use the predicted Y ratio to calculate future Y\n",
    "predicted_exchange_rates5 = [initial_rate]  # 初始化列表，起点为初始汇率\n",
    "for i in range(len(Y5_ratio_pred)):\n",
    "    next_rate = predicted_exchange_rates5[-1] * Y5_ratio_pred.iloc[i]  # 将上一个汇率乘以 Y_pred 的比值\n",
    "    predicted_exchange_rates5.append(next_rate)\n",
    "\n",
    "# check\n",
    "predicted_exchange_rates5 = np.array(predicted_exchange_rates5[1:])  # 从第二个开始，去掉初始值\n",
    "print(\"predicted future five year Y (23 timesteps):\", predicted_exchange_rates5)"
   ]
  },
  {
   "cell_type": "code",
   "execution_count": 31,
   "metadata": {},
   "outputs": [
    {
     "name": "stdout",
     "output_type": "stream",
     "text": [
      "Last four exchange rate: [7.25630835 7.26136234 7.2666417  7.27214114]\n",
      "the predicted exchange value for year 2029 : 7.264113383633167\n"
     ]
    }
   ],
   "source": [
    "##9 Extract the last four exchange rate values\n",
    "last_four_rates5 = predicted_exchange_rates5[-4:]\n",
    "\n",
    "# Calculate the mean of last four values\n",
    "average_rate_5 = np.mean(last_four_rates5)\n",
    "\n",
    "# print\n",
    "print(\"Last four exchange rate:\", last_four_rates5)\n",
    "print(\"the predicted exchange value for year 2029 :\", average_rate_5)"
   ]
  },
  {
   "cell_type": "code",
   "execution_count": 32,
   "metadata": {},
   "outputs": [
    {
     "data": {
      "image/png": "[encoded data removed]",
      "text/plain": [
       "<Figure size 1800x600 with 3 Axes>"
      ]
     },
     "metadata": {},
     "output_type": "display_data"
    }
   ],
   "source": [
    "import matplotlib.pyplot as plt\n",
    "import numpy as np\n",
    "\n",
    "# 时间步数\n",
    "time_1_year = np.arange(1, 8)   # 1年\n",
    "time_3_years = np.arange(1, 16)  # 3年\n",
    "time_5_years = np.arange(1, 24)  # 5年\n",
    "\n",
    "# 预测的平均汇率数据\n",
    "predicted_exchange_rates_1_year = [7.20244448, 7.20314275, 7.20389235, 7.20470103, 7.20556473, 7.20648579, 7.20745748]\n",
    "predicted_exchange_rates_3_years = [7.20244448, 7.20314237, 7.20389638, 7.20470497, 7.20556754, 7.20648433, 7.20745561, 7.20847634, 7.20955086, 7.21068308, 7.21186956, 7.21311451, 7.21441566, 7.21576864, 7.21717461]\n",
    "predicted_exchange_rates_5_years = [7.20244448, 7.20314238, 7.20389327, 7.20470217, 7.20556803, 7.20649126, 7.20746681, 7.20849601, 7.20957734, 7.21071211, 7.2118986, 7.21313512, 7.21442184, 7.21576574, 7.2171638, 7.21861286, 7.22011289, 7.22166784, 7.22327639, 7.22494012, 7.226658, 7.22842851, 7.23025336]\n",
    "\n",
    "# 创建1行3列的子图\n",
    "fig, axes = plt.subplots(1, 3, figsize=(18, 6))\n",
    "\n",
    "# 绘制1年预测的折线图\n",
    "axes[0].plot(time_1_year, predicted_exchange_rates_1_year, color='blue', marker='o', linestyle='--')\n",
    "axes[0].set_title('1 Year Prediction')\n",
    "axes[0].set_xlabel('Time (Quarters)')\n",
    "axes[0].set_ylabel('Predicted CNY/USD Exchange Rate')\n",
    "axes[0].grid(True)\n",
    "\n",
    "# 绘制3年预测的折线图\n",
    "axes[1].plot(time_3_years, predicted_exchange_rates_3_years, color='orange', marker='s', linestyle='-.')\n",
    "axes[1].set_title('3 Years Prediction')\n",
    "axes[1].set_xlabel('Time (Quarters)')\n",
    "axes[1].grid(True)\n",
    "\n",
    "# 绘制5年预测的折线图\n",
    "axes[2].plot(time_5_years, predicted_exchange_rates_5_years, color='green', marker='^', linestyle='-')\n",
    "axes[2].set_title('5 Years Prediction')\n",
    "axes[2].set_xlabel('Time (Quarters)')\n",
    "axes[2].grid(True)\n",
    "\n",
    "# 调整子图布局\n",
    "plt.tight_layout()\n",
    "\n",
    "# 显示图表\n",
    "plt.show()\n"
   ]
  },
  {
   "cell_type": "code",
   "execution_count": 33,
   "metadata": {},
   "outputs": [
    {
     "data": {
      "image/png": "[encoded data removed]",
      "text/plain": [
       "<Figure size 800x600 with 2 Axes>"
      ]
     },
     "metadata": {},
     "output_type": "display_data"
    }
   ],
   "source": [
    "import seaborn as sns\n",
    "import matplotlib.pyplot as plt\n",
    "\n",
    "# 使用之前计算的相关矩阵绘制热力图\n",
    "plt.figure(figsize=(8, 6))\n",
    "sns.heatmap(correlation_matrix, annot=True, cmap='coolwarm', linewidths=0.5, fmt='.2f')\n",
    "\n",
    "# 设置标题\n",
    "plt.title('Correlation Matrix of Variables', fontsize=14)\n",
    "\n",
    "# 保存热力图为PNG文件\n",
    "plt.savefig('correlation_matrix_heatmap.png', dpi=300, bbox_inches='tight')\n",
    "\n",
    "# 显示图表\n",
    "plt.show()\n"
   ]
  }
 ],
 "metadata": {
  "kernelspec": {
   "display_name": "base",
   "language": "python",
   "name": "python3"
  },
  "language_info": {
   "codemirror_mode": {
    "name": "ipython",
    "version": 3
   },
   "file_extension": ".py",
   "mimetype": "text/x-python",
   "name": "python",
   "nbconvert_exporter": "python",
   "pygments_lexer": "ipython3",
   "version": "3.12.4"
  }
 },
 "nbformat": 4,
 "nbformat_minor": 2
}
